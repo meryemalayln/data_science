{
 "cells": [
  {
   "cell_type": "code",
   "execution_count": 3,
   "metadata": {},
   "outputs": [],
   "source": [
    "import pandas as pd\n",
    "import numpy as np"
   ]
  },
  {
   "cell_type": "code",
   "execution_count": 139,
   "metadata": {},
   "outputs": [],
   "source": [
    "data = pd.read_csv('logs-november_first10days_2018.csv')"
   ]
  },
  {
   "cell_type": "code",
   "execution_count": 93,
   "metadata": {},
   "outputs": [
    {
     "data": {
      "text/plain": [
       "(1358566, 20)"
      ]
     },
     "execution_count": 93,
     "metadata": {},
     "output_type": "execute_result"
    }
   ],
   "source": [
    "data.shape"
   ]
  },
  {
   "cell_type": "code",
   "execution_count": 140,
   "metadata": {},
   "outputs": [
    {
     "data": {
      "text/html": [
       "<div>\n",
       "<style scoped>\n",
       "    .dataframe tbody tr th:only-of-type {\n",
       "        vertical-align: middle;\n",
       "    }\n",
       "\n",
       "    .dataframe tbody tr th {\n",
       "        vertical-align: top;\n",
       "    }\n",
       "\n",
       "    .dataframe thead th {\n",
       "        text-align: right;\n",
       "    }\n",
       "</style>\n",
       "<table border=\"1\" class=\"dataframe\">\n",
       "  <thead>\n",
       "    <tr style=\"text-align: right;\">\n",
       "      <th></th>\n",
       "      <th>dttm_gmt</th>\n",
       "      <th>browser_timestamp</th>\n",
       "      <th>sessionid_model30</th>\n",
       "      <th>lbuaccountid</th>\n",
       "      <th>user_id</th>\n",
       "      <th>lnaction</th>\n",
       "      <th>lndelivery</th>\n",
       "      <th>lndocresultype</th>\n",
       "      <th>lndocselector</th>\n",
       "      <th>resultcount</th>\n",
       "      <th>searchpalist</th>\n",
       "      <th>searchterm</th>\n",
       "      <th>url_original_url</th>\n",
       "      <th>ref_original_url</th>\n",
       "      <th>lndoctitle</th>\n",
       "      <th>userdocument</th>\n",
       "      <th>usersearch</th>\n",
       "      <th>wa_action</th>\n",
       "      <th>wa_name</th>\n",
       "      <th>wa_value</th>\n",
       "    </tr>\n",
       "  </thead>\n",
       "  <tbody>\n",
       "    <tr>\n",
       "      <th>1358561</th>\n",
       "      <td>2018-11-10 23:58:38.000</td>\n",
       "      <td>1541894316600</td>\n",
       "      <td>cookie_q7oje5nSUHS-a0A69Vh:1541894316600</td>\n",
       "      <td>NaN</td>\n",
       "      <td>cookie_q7oje5nSUHS-a0A69Vh</td>\n",
       "      <td>Clearing_of_derivatives_overview.faces</td>\n",
       "      <td>NaN</td>\n",
       "      <td>BANKINGANDFINANCE</td>\n",
       "      <td>AtAGlance</td>\n",
       "      <td>NaN</td>\n",
       "      <td>NaN</td>\n",
       "      <td>NaN</td>\n",
       "      <td>https://www.lexisnexis.com/uk/lexispsl/banking...</td>\n",
       "      <td>http://w3.lexisnexis.com/uk/legal/getRememberM...</td>\n",
       "      <td>Clearing of derivatives—overview</td>\n",
       "      <td>True</td>\n",
       "      <td>NaN</td>\n",
       "      <td>NaN</td>\n",
       "      <td>NaN</td>\n",
       "      <td>NaN</td>\n",
       "    </tr>\n",
       "    <tr>\n",
       "      <th>1358562</th>\n",
       "      <td>2018-11-10 23:58:40.000</td>\n",
       "      <td>1541894320447</td>\n",
       "      <td>SANDRAWONGH:1541889377860</td>\n",
       "      <td>SILV5108</td>\n",
       "      <td>SANDRAWONGH</td>\n",
       "      <td>search.faces</td>\n",
       "      <td>NaN</td>\n",
       "      <td>FAMILYLAW</td>\n",
       "      <td>NaN</td>\n",
       "      <td>NaN</td>\n",
       "      <td>NaN</td>\n",
       "      <td>NaN</td>\n",
       "      <td>https://www.lexisnexis.com/uk/lexispsl/family/...</td>\n",
       "      <td>https://www.lexisnexis.com/uk/lexispsl/family/...</td>\n",
       "      <td>NaN</td>\n",
       "      <td>NaN</td>\n",
       "      <td>NaN</td>\n",
       "      <td>NaN</td>\n",
       "      <td>NaN</td>\n",
       "      <td>NaN</td>\n",
       "    </tr>\n",
       "    <tr>\n",
       "      <th>1358563</th>\n",
       "      <td>2018-11-10 23:58:51.000</td>\n",
       "      <td>1541894331050</td>\n",
       "      <td>SANDRAWONGH:1541889377860</td>\n",
       "      <td>SILV5108</td>\n",
       "      <td>SANDRAWONGH</td>\n",
       "      <td>393795.faces</td>\n",
       "      <td>NaN</td>\n",
       "      <td>FAMILYLAW</td>\n",
       "      <td>PracticeNote</td>\n",
       "      <td>NaN</td>\n",
       "      <td>NaN</td>\n",
       "      <td>c100 form</td>\n",
       "      <td>https://www.lexisnexis.com/uk/lexispsl/family/...</td>\n",
       "      <td>https://www.lexisnexis.com/uk/lexispsl/family/...</td>\n",
       "      <td>Child Arrangements Programme—the procedure for...</td>\n",
       "      <td>True</td>\n",
       "      <td>NaN</td>\n",
       "      <td>NaN</td>\n",
       "      <td>NaN</td>\n",
       "      <td>NaN</td>\n",
       "    </tr>\n",
       "    <tr>\n",
       "      <th>1358564</th>\n",
       "      <td>2018-11-10 23:58:56.000</td>\n",
       "      <td>1541894336000</td>\n",
       "      <td>A00F1GUSNBC4R0N1FA:1541892532319</td>\n",
       "      <td>COLL5143</td>\n",
       "      <td>A00F1GUSNBC4R0N1FA</td>\n",
       "      <td>393765.faces</td>\n",
       "      <td>NaN</td>\n",
       "      <td>ENVIRONMENT</td>\n",
       "      <td>[\"PracticeNote\",\"PracticeNote\"]</td>\n",
       "      <td>NaN</td>\n",
       "      <td>NaN</td>\n",
       "      <td>protected species netterjack toads</td>\n",
       "      <td>https://www.lexisnexis.com/uk/lexispsl/environ...</td>\n",
       "      <td>NaN</td>\n",
       "      <td>[\"Protected   species\",\"Protected   species\"]</td>\n",
       "      <td>NaN</td>\n",
       "      <td>NaN</td>\n",
       "      <td>docChecker:auth:internal</td>\n",
       "      <td>SI 2017/1012, reg 43</td>\n",
       "      <td>psldocinfo:Protected___species|A:0.71114162660...</td>\n",
       "    </tr>\n",
       "    <tr>\n",
       "      <th>1358565</th>\n",
       "      <td>2018-11-10 23:59:00.000</td>\n",
       "      <td>1541894335093</td>\n",
       "      <td>A00F1GUSNBC4R0N1FA:1541892532319</td>\n",
       "      <td>COLL5143</td>\n",
       "      <td>A00F1GUSNBC4R0N1FA</td>\n",
       "      <td>SI-2017-1012-Conservation-of-Habitats-and-Spec...</td>\n",
       "      <td>NaN</td>\n",
       "      <td>ENVIRONMENT</td>\n",
       "      <td>StatutoryInstrument</td>\n",
       "      <td>NaN</td>\n",
       "      <td>NaN</td>\n",
       "      <td>NaN</td>\n",
       "      <td>/environment/document.jsf</td>\n",
       "      <td>https://www.lexisnexis.com/uk/lexispsl/environ...</td>\n",
       "      <td>SI 2017/1012 Conservation of Habitats and Spec...</td>\n",
       "      <td>True</td>\n",
       "      <td>NaN</td>\n",
       "      <td>NaN</td>\n",
       "      <td>NaN</td>\n",
       "      <td>NaN</td>\n",
       "    </tr>\n",
       "  </tbody>\n",
       "</table>\n",
       "</div>"
      ],
      "text/plain": [
       "                        dttm_gmt  browser_timestamp  \\\n",
       "1358561  2018-11-10 23:58:38.000      1541894316600   \n",
       "1358562  2018-11-10 23:58:40.000      1541894320447   \n",
       "1358563  2018-11-10 23:58:51.000      1541894331050   \n",
       "1358564  2018-11-10 23:58:56.000      1541894336000   \n",
       "1358565  2018-11-10 23:59:00.000      1541894335093   \n",
       "\n",
       "                                sessionid_model30 lbuaccountid  \\\n",
       "1358561  cookie_q7oje5nSUHS-a0A69Vh:1541894316600          NaN   \n",
       "1358562                 SANDRAWONGH:1541889377860     SILV5108   \n",
       "1358563                 SANDRAWONGH:1541889377860     SILV5108   \n",
       "1358564          A00F1GUSNBC4R0N1FA:1541892532319     COLL5143   \n",
       "1358565          A00F1GUSNBC4R0N1FA:1541892532319     COLL5143   \n",
       "\n",
       "                            user_id  \\\n",
       "1358561  cookie_q7oje5nSUHS-a0A69Vh   \n",
       "1358562                 SANDRAWONGH   \n",
       "1358563                 SANDRAWONGH   \n",
       "1358564          A00F1GUSNBC4R0N1FA   \n",
       "1358565          A00F1GUSNBC4R0N1FA   \n",
       "\n",
       "                                                  lnaction lndelivery  \\\n",
       "1358561             Clearing_of_derivatives_overview.faces        NaN   \n",
       "1358562                                       search.faces        NaN   \n",
       "1358563                                       393795.faces        NaN   \n",
       "1358564                                       393765.faces        NaN   \n",
       "1358565  SI-2017-1012-Conservation-of-Habitats-and-Spec...        NaN   \n",
       "\n",
       "            lndocresultype                    lndocselector  resultcount  \\\n",
       "1358561  BANKINGANDFINANCE                        AtAGlance          NaN   \n",
       "1358562          FAMILYLAW                              NaN          NaN   \n",
       "1358563          FAMILYLAW                     PracticeNote          NaN   \n",
       "1358564        ENVIRONMENT  [\"PracticeNote\",\"PracticeNote\"]          NaN   \n",
       "1358565        ENVIRONMENT              StatutoryInstrument          NaN   \n",
       "\n",
       "        searchpalist                          searchterm  \\\n",
       "1358561          NaN                                 NaN   \n",
       "1358562          NaN                                 NaN   \n",
       "1358563          NaN                           c100 form   \n",
       "1358564          NaN  protected species netterjack toads   \n",
       "1358565          NaN                                 NaN   \n",
       "\n",
       "                                          url_original_url  \\\n",
       "1358561  https://www.lexisnexis.com/uk/lexispsl/banking...   \n",
       "1358562  https://www.lexisnexis.com/uk/lexispsl/family/...   \n",
       "1358563  https://www.lexisnexis.com/uk/lexispsl/family/...   \n",
       "1358564  https://www.lexisnexis.com/uk/lexispsl/environ...   \n",
       "1358565                          /environment/document.jsf   \n",
       "\n",
       "                                          ref_original_url  \\\n",
       "1358561  http://w3.lexisnexis.com/uk/legal/getRememberM...   \n",
       "1358562  https://www.lexisnexis.com/uk/lexispsl/family/...   \n",
       "1358563  https://www.lexisnexis.com/uk/lexispsl/family/...   \n",
       "1358564                                                NaN   \n",
       "1358565  https://www.lexisnexis.com/uk/lexispsl/environ...   \n",
       "\n",
       "                                                lndoctitle userdocument  \\\n",
       "1358561                   Clearing of derivatives—overview         True   \n",
       "1358562                                                NaN          NaN   \n",
       "1358563  Child Arrangements Programme—the procedure for...         True   \n",
       "1358564      [\"Protected   species\",\"Protected   species\"]          NaN   \n",
       "1358565  SI 2017/1012 Conservation of Habitats and Spec...         True   \n",
       "\n",
       "        usersearch                 wa_action               wa_name  \\\n",
       "1358561        NaN                       NaN                   NaN   \n",
       "1358562        NaN                       NaN                   NaN   \n",
       "1358563        NaN                       NaN                   NaN   \n",
       "1358564        NaN  docChecker:auth:internal  SI 2017/1012, reg 43   \n",
       "1358565        NaN                       NaN                   NaN   \n",
       "\n",
       "                                                  wa_value  \n",
       "1358561                                                NaN  \n",
       "1358562                                                NaN  \n",
       "1358563                                                NaN  \n",
       "1358564  psldocinfo:Protected___species|A:0.71114162660...  \n",
       "1358565                                                NaN  "
      ]
     },
     "execution_count": 140,
     "metadata": {},
     "output_type": "execute_result"
    }
   ],
   "source": [
    "data.tail(5)"
   ]
  },
  {
   "cell_type": "markdown",
   "metadata": {},
   "source": [
    "1) Count the number of doc views "
   ]
  },
  {
   "cell_type": "code",
   "execution_count": 155,
   "metadata": {},
   "outputs": [],
   "source": [
    "number_of_doc_views =data[(data['userdocument']==True) & (data['searchterm'].notnull())]"
   ]
  },
  {
   "cell_type": "code",
   "execution_count": 156,
   "metadata": {},
   "outputs": [
    {
     "data": {
      "text/plain": [
       "(78555, 20)"
      ]
     },
     "execution_count": 156,
     "metadata": {},
     "output_type": "execute_result"
    }
   ],
   "source": [
    "number_of_doc_views.shape"
   ]
  },
  {
   "cell_type": "markdown",
   "metadata": {},
   "source": [
    "2) How many print instances did each user have?"
   ]
  },
  {
   "cell_type": "code",
   "execution_count": 157,
   "metadata": {},
   "outputs": [],
   "source": [
    "#retrive all lndelivery values"
   ]
  },
  {
   "cell_type": "code",
   "execution_count": 158,
   "metadata": {},
   "outputs": [
    {
     "data": {
      "text/plain": [
       "array([nan, 'DOWNLOAD', 'PRINT'], dtype=object)"
      ]
     },
     "execution_count": 158,
     "metadata": {},
     "output_type": "execute_result"
    }
   ],
   "source": [
    "data.lndelivery.unique()"
   ]
  },
  {
   "cell_type": "code",
   "execution_count": 161,
   "metadata": {},
   "outputs": [],
   "source": [
    "print_data = data[data['lndelivery'] == 'PRINT']"
   ]
  },
  {
   "cell_type": "code",
   "execution_count": 166,
   "metadata": {},
   "outputs": [],
   "source": [
    "groupby_user_id = print_data.groupby('user_id')['lndelivery'].value_counts()"
   ]
  },
  {
   "cell_type": "code",
   "execution_count": 164,
   "metadata": {},
   "outputs": [
    {
     "data": {
      "text/plain": [
       "user_id                  lndelivery\n",
       "10425@IRWINMITCHELL.COM  PRINT         2\n",
       "18918@IRWINMITCHELL.COM  PRINT         2\n",
       "1BC11CDKQKGD5V8371       PRINT         1\n",
       "1DCSIUBUUP59LN0461       PRINT         1\n",
       "1F4GP6V2O3KTIOHWZW       PRINT         1\n",
       "1GF2PHN0HF0FMVS4P1       PRINT         2\n",
       "1HIKVHUSA8JU1HNP61       PRINT         1\n",
       "1QT4AGKIQET054OH31       PRINT         1\n",
       "1WEEKPSL43955B56         PRINT         1\n",
       "1WEEKPSL43959B60         PRINT         1\n",
       "Name: lndelivery, dtype: int64"
      ]
     },
     "execution_count": 164,
     "metadata": {},
     "output_type": "execute_result"
    }
   ],
   "source": [
    "groupby_user_id.head(10)"
   ]
  },
  {
   "cell_type": "markdown",
   "metadata": {},
   "source": [
    "3) How many unique searchterms does each user have? Please provide the list of unique searchterms for each user"
   ]
  },
  {
   "cell_type": "code",
   "execution_count": 195,
   "metadata": {},
   "outputs": [],
   "source": [
    "unique_searchterm = data.groupby('user_id').searchterm.nunique()"
   ]
  },
  {
   "cell_type": "code",
   "execution_count": 196,
   "metadata": {},
   "outputs": [
    {
     "data": {
      "text/plain": [
       "user_id\n",
       " {{model.session.user.username}}     0\n",
       "00CD0000E800BC31MB                   0\n",
       "00D4040000005C38OA                   1\n",
       "01413B0401F6078BPP                   1\n",
       "01613004017F6C5BPP                   4\n",
       "Name: searchterm, dtype: int64"
      ]
     },
     "execution_count": 196,
     "metadata": {},
     "output_type": "execute_result"
    }
   ],
   "source": [
    "unique_searchterm.head()"
   ]
  },
  {
   "cell_type": "markdown",
   "metadata": {},
   "source": [
    "4) Create a pie chart representing the count or percentage of different types of delivery actions y(PRINT,EMAIL,DOWNLOAD)"
   ]
  },
  {
   "cell_type": "code",
   "execution_count": 197,
   "metadata": {},
   "outputs": [],
   "source": [
    "groupby_lndelivery = data.groupby('lndelivery').lndelivery.count()"
   ]
  },
  {
   "cell_type": "code",
   "execution_count": 198,
   "metadata": {},
   "outputs": [
    {
     "data": {
      "text/plain": [
       "lndelivery\n",
       "DOWNLOAD    9398\n",
       "PRINT        383\n",
       "Name: lndelivery, dtype: int64"
      ]
     },
     "execution_count": 198,
     "metadata": {},
     "output_type": "execute_result"
    }
   ],
   "source": [
    "groupby_lndelivery"
   ]
  },
  {
   "cell_type": "code",
   "execution_count": 135,
   "metadata": {},
   "outputs": [],
   "source": [
    "import matplotlib.pyplot as plt"
   ]
  },
  {
   "cell_type": "code",
   "execution_count": 199,
   "metadata": {},
   "outputs": [
    {
     "data": {
      "text/plain": [
       "([<matplotlib.patches.Wedge at 0x202237ca518>,\n",
       "  <matplotlib.patches.Wedge at 0x202237caa20>],\n",
       " [Text(-1.09169,0.134978,''), Text(1.09169,-0.134978,'')])"
      ]
     },
     "execution_count": 199,
     "metadata": {},
     "output_type": "execute_result"
    },
    {
     "data": {
      "image/png": "[encoded data removed]",
      "text/plain": [
       "<Figure size 432x288 with 1 Axes>"
      ]
     },
     "metadata": {},
     "output_type": "display_data"
    }
   ],
   "source": [
    "plt.pie(groupby_lndelivery)"
   ]
  },
  {
   "cell_type": "code",
   "execution_count": null,
   "metadata": {},
   "outputs": [],
   "source": []
  }
 ],
 "metadata": {
  "kernelspec": {
   "display_name": "Python 3",
   "language": "python",
   "name": "python3"
  },
  "language_info": {
   "codemirror_mode": {
    "name": "ipython",
    "version": 3
   },
   "file_extension": ".py",
   "mimetype": "text/x-python",
   "name": "python",
   "nbconvert_exporter": "python",
   "pygments_lexer": "ipython3",
   "version": "3.7.0"
  }
 },
 "nbformat": 4,
 "nbformat_minor": 2
}
